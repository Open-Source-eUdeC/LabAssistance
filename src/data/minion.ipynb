{
 "cells": [
  {
   "cell_type": "code",
   "execution_count": null,
   "metadata": {},
   "outputs": [],
   "source": [
    "import csv\n",
    "import json"
   ]
  },
  {
   "cell_type": "code",
   "execution_count": null,
   "metadata": {},
   "outputs": [],
   "source": [
    "students = []\n",
    "\n",
    "with open('data.csv', 'r', encoding=\"utf-8\") as f:\n",
    "    reader = csv.reader(f)\n",
    "    for row in reader:\n",
    "        row = row[0].split(\";\")\n",
    "        students.append({\n",
    "            'matricula': int(row[0]),\n",
    "            'nombre': row[2] + \" \" + row[1],\n",
    "            'email': row[3].lower(),\n",
    "        })\n",
    "\n",
    "with open('lab.json', 'r', encoding='utf-8') as f:\n",
    "    lab_data = json.load(f)\n",
    "    lab_data['students'] = students\n",
    "\n",
    "with open('lab.json', 'w', encoding='utf-8') as f:\n",
    "    json.dump(lab_data, f, indent=2, ensure_ascii=False)\n",
    "\n"
   ]
  }
 ],
 "metadata": {
  "kernelspec": {
   "display_name": "dev",
   "language": "python",
   "name": "python3"
  },
  "language_info": {
   "codemirror_mode": {
    "name": "ipython",
    "version": 3
   },
   "file_extension": ".py",
   "mimetype": "text/x-python",
   "name": "python",
   "nbconvert_exporter": "python",
   "pygments_lexer": "ipython3",
   "version": "3.10.4"
  },
  "orig_nbformat": 4
 },
 "nbformat": 4,
 "nbformat_minor": 2
}
